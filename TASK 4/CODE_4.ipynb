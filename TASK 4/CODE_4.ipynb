{
 "cells": [
  {
   "cell_type": "code",
   "execution_count": 2,
   "id": "e5bd067c-bacf-4e43-aa11-97dc1687d94b",
   "metadata": {},
   "outputs": [],
   "source": [
    "import pandas as pd\n",
    "import numpy as np\n",
    "from sklearn.preprocessing import LabelEncoder, OneHotEncoder\n",
    "from sklearn.ensemble import RandomForestClassifier\n",
    "from sklearn.metrics import accuracy_score, confusion_matrix, classification_report\n",
    "def main():\n",
    "    # Load the training data\n",
    "    X_train = pd.read_csv('vehicular_communication_data_train.csv')\n",
    "\n",
    "    # Encode the categorical 'modulation_and_coding_scheme' column\n",
    "    label_encoder = LabelEncoder()\n",
    "    y_train_encoded = label_encoder.fit_transform(X_train['modulation_and_coding_scheme'])\n",
    "\n",
    "    # Encode the categorical 'traffic_requirements' column using one-hot encoding\n",
    "    onehot_encoder = OneHotEncoder(sparse=False, drop='first')\n",
    "    traffic_requirements_encoded = onehot_encoder.fit_transform(X_train[['traffic_requirements']])\n",
    "\n",
    "    # Combine the encoded 'traffic_requirements' with other features\n",
    "    X_train = np.column_stack((X_train['channel_conditions'], traffic_requirements_encoded))\n",
    "\n",
    "    # Train the model\n",
    "    model = train_model(X_train, y_train_encoded)\n",
    "\n",
    "    # Load the testing data\n",
    "    X_test = pd.read_csv('vehicular_communication_data_test1.csv')\n",
    "\n",
    "    # Encode the categorical 'modulation_and_coding_scheme' column of the testing data\n",
    "    y_test_encoded = label_encoder.transform(X_test['modulation_and_coding_scheme'])\n",
    "\n",
    "    # Encode the categorical 'traffic_requirements' column of the testing data using one-hot encoding\n",
    "    traffic_requirements_encoded = onehot_encoder.transform(X_test[['traffic_requirements']])\n",
    "\n",
    "    # Combine the encoded 'traffic_requirements' with other features of the testing data\n",
    "    X_test = np.column_stack((X_test['channel_conditions'], traffic_requirements_encoded))\n",
    "\n",
    "    # Evaluate the model on the test set\n",
    "    y_pred = predict(model, X_test)\n",
    "    accuracy = np.mean(y_pred == y_test_encoded)\n",
    "    "
   ]
  }
 ],
 "metadata": {
  "kernelspec": {
   "display_name": "Python 3 (ipykernel)",
   "language": "python",
   "name": "python3"
  },
  "language_info": {
   "codemirror_mode": {
    "name": "ipython",
    "version": 3
   },
   "file_extension": ".py",
   "mimetype": "text/x-python",
   "name": "python",
   "nbconvert_exporter": "python",
   "pygments_lexer": "ipython3",
   "version": "3.12.4"
  }
 },
 "nbformat": 4,
 "nbformat_minor": 5
}
